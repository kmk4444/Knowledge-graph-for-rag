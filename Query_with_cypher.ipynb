{
  "nbformat": 4,
  "nbformat_minor": 0,
  "metadata": {
    "colab": {
      "provenance": [],
      "authorship_tag": "ABX9TyO/cy9eZDiEut81+P6eMomu",
      "include_colab_link": true
    },
    "kernelspec": {
      "name": "python3",
      "display_name": "Python 3"
    },
    "language_info": {
      "name": "python"
    }
  },
  "cells": [
    {
      "cell_type": "markdown",
      "metadata": {
        "id": "view-in-github",
        "colab_type": "text"
      },
      "source": [
        "<a href=\"https://colab.research.google.com/github/kmk4444/Knowledge-graph-for-rag/blob/main/Query_with_cypher.ipynb\" target=\"_parent\"><img src=\"https://colab.research.google.com/assets/colab-badge.svg\" alt=\"Open In Colab\"/></a>"
      ]
    },
    {
      "cell_type": "markdown",
      "source": [
        "# Lesson 2: Querying Knowledge Graphs with Cypher"
      ],
      "metadata": {
        "id": "5uBwW0gBcUxt"
      }
    },
    {
      "cell_type": "markdown",
      "source": [
        "### Import packages and set up Neo4"
      ],
      "metadata": {
        "id": "TVzAN6pJcgLz"
      }
    },
    {
      "cell_type": "code",
      "source": [
        "!pip install langchain-community neo4j"
      ],
      "metadata": {
        "colab": {
          "base_uri": "https://localhost:8080/"
        },
        "id": "eCpHYwAodHm8",
        "outputId": "5d8371bc-8a61-40db-a691-754b7684ee01"
      },
      "execution_count": 9,
      "outputs": [
        {
          "output_type": "stream",
          "name": "stdout",
          "text": [
            "Installing collected packages: neo4j\n",
            "Successfully installed neo4j-5.23.1\n"
          ]
        }
      ]
    },
    {
      "cell_type": "code",
      "execution_count": 5,
      "metadata": {
        "id": "ONkR91jSbw-e"
      },
      "outputs": [],
      "source": [
        "#from dotenv import load_dotenv\n",
        "\n",
        "\n",
        "from langchain_community.graphs import Neo4jGraph\n",
        "\n",
        "# Warning control\n",
        "import warnings\n",
        "warnings.filterwarnings(\"ignore\")"
      ]
    },
    {
      "cell_type": "code",
      "source": [],
      "metadata": {
        "id": "PXHJLJq1nT3m"
      },
      "execution_count": 13,
      "outputs": []
    },
    {
      "cell_type": "code",
      "source": [
        "kg = Neo4jGraph(\n",
        "    url=NEO4J_URI, username=NEO4J_USERNAME, password=NEO4J_PASSWORD, database=NEO4J_DATABASE\n",
        ")"
      ],
      "metadata": {
        "id": "Q7lleAARqUX3"
      },
      "execution_count": 14,
      "outputs": []
    },
    {
      "cell_type": "markdown",
      "source": [
        "### Querying the movie knowledge graph\n",
        "- Match all nodes in the graph"
      ],
      "metadata": {
        "id": "TUL44ETnrpT_"
      }
    },
    {
      "cell_type": "code",
      "source": [
        "cypher = \"\"\"\n",
        "  MATCH (n)\n",
        "  RETURN count(n)\n",
        "  \"\"\""
      ],
      "metadata": {
        "id": "UZTm58mLro6k"
      },
      "execution_count": 15,
      "outputs": []
    },
    {
      "cell_type": "code",
      "source": [
        "result = kg.query(cypher)\n",
        "result"
      ],
      "metadata": {
        "colab": {
          "base_uri": "https://localhost:8080/"
        },
        "id": "DgQMgVi-rq0q",
        "outputId": "67c6347d-797e-4c06-f845-96ef4fa21af1"
      },
      "execution_count": 16,
      "outputs": [
        {
          "output_type": "execute_result",
          "data": {
            "text/plain": [
              "[{'count(n)': 105}]"
            ]
          },
          "metadata": {},
          "execution_count": 16
        }
      ]
    },
    {
      "cell_type": "code",
      "source": [
        "cypher = \"\"\"\n",
        "  MATCH (n)\n",
        "  RETURN count(n) AS numberOfNodes\n",
        "  \"\"\""
      ],
      "metadata": {
        "id": "mIuU0kwLr4Bs"
      },
      "execution_count": 17,
      "outputs": []
    },
    {
      "cell_type": "code",
      "source": [
        "result = kg.query(cypher)\n",
        "result"
      ],
      "metadata": {
        "colab": {
          "base_uri": "https://localhost:8080/"
        },
        "id": "WHYVMUDFspIt",
        "outputId": "dd35220d-09e0-41fd-d499-014d3d310813"
      },
      "execution_count": 18,
      "outputs": [
        {
          "output_type": "execute_result",
          "data": {
            "text/plain": [
              "[{'numberOfNodes': 105}]"
            ]
          },
          "metadata": {},
          "execution_count": 18
        }
      ]
    },
    {
      "cell_type": "code",
      "source": [
        "print(f\"There are {result[0]['numberOfNodes']} nodes in this graph.\")"
      ],
      "metadata": {
        "colab": {
          "base_uri": "https://localhost:8080/"
        },
        "id": "TGgp1zuostXX",
        "outputId": "ac5ad7f1-95ea-4ee7-a697-19fcf5d4ab9c"
      },
      "execution_count": 19,
      "outputs": [
        {
          "output_type": "stream",
          "name": "stdout",
          "text": [
            "There are 105 nodes in this graph.\n"
          ]
        }
      ]
    },
    {
      "cell_type": "markdown",
      "source": [
        "- Match only the `Movie` nodes by specifying the node label"
      ],
      "metadata": {
        "id": "5qq2ThjLs9wR"
      }
    },
    {
      "cell_type": "code",
      "source": [
        "cypher = \"\"\"\n",
        "  MATCH (n:Movie)\n",
        "  RETURN count(n) AS numberOfMovies\n",
        "  \"\"\"\n",
        "kg.query(cypher)"
      ],
      "metadata": {
        "colab": {
          "base_uri": "https://localhost:8080/"
        },
        "id": "teXEg-RVtCs1",
        "outputId": "8090dfcb-ee9b-42ab-8442-521a0ab0b0d1"
      },
      "execution_count": 21,
      "outputs": [
        {
          "output_type": "execute_result",
          "data": {
            "text/plain": [
              "[{'numberOfMovies': 21}]"
            ]
          },
          "metadata": {},
          "execution_count": 21
        }
      ]
    },
    {
      "cell_type": "markdown",
      "source": [
        "- Change the variable name in the node pattern match for improved readability"
      ],
      "metadata": {
        "id": "b6bsGmZJtfO2"
      }
    },
    {
      "cell_type": "code",
      "source": [
        "cypher = \"\"\"\n",
        "  MATCH (m:Movie)\n",
        "  RETURN count(m) AS numberOfMovies\n",
        "  \"\"\"\n",
        "kg.query(cypher)"
      ],
      "metadata": {
        "colab": {
          "base_uri": "https://localhost:8080/"
        },
        "id": "Lb2cNiVXtf19",
        "outputId": "4dd5fce7-239f-4072-bc19-4649e984dbec"
      },
      "execution_count": 22,
      "outputs": [
        {
          "output_type": "execute_result",
          "data": {
            "text/plain": [
              "[{'numberOfMovies': 21}]"
            ]
          },
          "metadata": {},
          "execution_count": 22
        }
      ]
    },
    {
      "cell_type": "markdown",
      "source": [
        "- Match only the `Person` nodes"
      ],
      "metadata": {
        "id": "ZjvuleLqtvLm"
      }
    },
    {
      "cell_type": "code",
      "source": [
        "cypher = \"\"\"\n",
        "  MATCH (p:Person)\n",
        "  RETURN count(p) AS numberOfPeople\n",
        "  \"\"\"\n",
        "kg.query(cypher)"
      ],
      "metadata": {
        "colab": {
          "base_uri": "https://localhost:8080/"
        },
        "id": "fLSJHZpRtvo2",
        "outputId": "cabee975-2afc-4e2a-99e6-054cf0d06b96"
      },
      "execution_count": 23,
      "outputs": [
        {
          "output_type": "execute_result",
          "data": {
            "text/plain": [
              "[{'numberOfPeople': 84}]"
            ]
          },
          "metadata": {},
          "execution_count": 23
        }
      ]
    },
    {
      "cell_type": "markdown",
      "source": [
        "- Match a single person by specifying the value of the `name` property on the `Person` node"
      ],
      "metadata": {
        "id": "7ycN3uM7t4ic"
      }
    },
    {
      "cell_type": "code",
      "source": [
        "cypher = \"\"\"\n",
        "  MATCH (tom:Person {name:\"Tom Hanks\"})\n",
        "  RETURN tom\n",
        "  \"\"\"\n",
        "kg.query(cypher)"
      ],
      "metadata": {
        "colab": {
          "base_uri": "https://localhost:8080/"
        },
        "id": "QgrcmE-jt5HE",
        "outputId": "39c63413-fd54-4d2f-bb6e-7f9a9a71ff38"
      },
      "execution_count": 24,
      "outputs": [
        {
          "output_type": "execute_result",
          "data": {
            "text/plain": [
              "[{'tom': {'born': 1956, 'name': 'Tom Hanks'}}]"
            ]
          },
          "metadata": {},
          "execution_count": 24
        }
      ]
    },
    {
      "cell_type": "markdown",
      "source": [
        "- Match a single `Movie` by specifying the value of the `title` property"
      ],
      "metadata": {
        "id": "n36g13OUuML3"
      }
    },
    {
      "cell_type": "code",
      "source": [
        "cypher = \"\"\"\n",
        "  MATCH (cloudAtlas:Movie {title:\"Cloud Atlas\"})\n",
        "  RETURN cloudAtlas\n",
        "  \"\"\"\n",
        "kg.query(cypher)"
      ],
      "metadata": {
        "colab": {
          "base_uri": "https://localhost:8080/"
        },
        "id": "kjKdMcj-uM43",
        "outputId": "1f45fda0-bec7-43ec-88f7-dc9fb3e88652"
      },
      "execution_count": 26,
      "outputs": [
        {
          "output_type": "execute_result",
          "data": {
            "text/plain": [
              "[]"
            ]
          },
          "metadata": {},
          "execution_count": 26
        }
      ]
    },
    {
      "cell_type": "code",
      "source": [
        "cypher = \"\"\"\n",
        "  MATCH (P:Person)\n",
        "  RETURN P LIMIT 5\n",
        "  \"\"\"\n",
        "kg.query(cypher)"
      ],
      "metadata": {
        "colab": {
          "base_uri": "https://localhost:8080/"
        },
        "id": "SaLsV9LHxsuq",
        "outputId": "c964ec5e-8b2d-4607-c186-04fa0d604a90"
      },
      "execution_count": 41,
      "outputs": [
        {
          "output_type": "execute_result",
          "data": {
            "text/plain": [
              "[{'P': {'born': 1964, 'name': 'Keanu Reeves'}},\n",
              " {'P': {'born': 1967, 'name': 'Carrie-Anne Moss'}},\n",
              " {'P': {'born': 1961, 'name': 'Laurence Fishburne'}},\n",
              " {'P': {'born': 1960, 'name': 'Hugo Weaving'}},\n",
              " {'P': {'born': 1967, 'name': 'Lilly Wachowski'}}]"
            ]
          },
          "metadata": {},
          "execution_count": 41
        }
      ]
    },
    {
      "cell_type": "code",
      "source": [
        "cypher = \"\"\"\n",
        "  MATCH (M:Movie)\n",
        "  RETURN M LIMIT 5\n",
        "  \"\"\"\n",
        "kg.query(cypher)"
      ],
      "metadata": {
        "colab": {
          "base_uri": "https://localhost:8080/"
        },
        "id": "Bu0xVqdkuagg",
        "outputId": "fb78df11-ee3b-4ec7-b00c-72630ed74dbe"
      },
      "execution_count": 38,
      "outputs": [
        {
          "output_type": "execute_result",
          "data": {
            "text/plain": [
              "[{'M': {'tagline': 'Welcome to the Real World',\n",
              "   'title': 'The Matrix',\n",
              "   'released': 1999}},\n",
              " {'M': {'tagline': 'Free your mind',\n",
              "   'title': 'The Matrix Reloaded',\n",
              "   'released': 2003}},\n",
              " {'M': {'tagline': 'Everything that has a beginning has an end',\n",
              "   'title': 'The Matrix Revolutions',\n",
              "   'released': 2003}},\n",
              " {'M': {'tagline': 'Evil has its winning ways',\n",
              "   'title': \"The Devil's Advocate\",\n",
              "   'released': 1997}},\n",
              " {'M': {'tagline': \"In the heart of the nation's capital, in a courthouse of the U.S. government, one man will stop at nothing to keep his honor, and one will stop at nothing to find the truth.\",\n",
              "   'title': 'A Few Good Men',\n",
              "   'released': 1992}}]"
            ]
          },
          "metadata": {},
          "execution_count": 38
        }
      ]
    },
    {
      "cell_type": "markdown",
      "source": [
        "- Return only the `released` property of the matched `Movie` node"
      ],
      "metadata": {
        "id": "PtwmiYhDuy1_"
      }
    },
    {
      "cell_type": "code",
      "source": [
        "cypher = \"\"\"\n",
        "  MATCH (StandByMe:Movie {title:\"Stand By Me\"})\n",
        "  RETURN StandByMe.released\n",
        "  \"\"\"\n",
        "kg.query(cypher)"
      ],
      "metadata": {
        "colab": {
          "base_uri": "https://localhost:8080/"
        },
        "id": "Llr7u1ztuzN1",
        "outputId": "ac0a8d3c-a3cb-44b8-bb2a-700147bf7a04"
      },
      "execution_count": 30,
      "outputs": [
        {
          "output_type": "execute_result",
          "data": {
            "text/plain": [
              "[{'StandByMe.released': 1986}]"
            ]
          },
          "metadata": {},
          "execution_count": 30
        }
      ]
    },
    {
      "cell_type": "markdown",
      "source": [
        "- Return two properties"
      ],
      "metadata": {
        "id": "GX1z3buVu_ok"
      }
    },
    {
      "cell_type": "code",
      "source": [
        "cypher = \"\"\"\n",
        "  MATCH (StandByMe:Movie {title:\"Stand By Me\"})\n",
        "  RETURN StandByMe.released, StandByMe.tagline\n",
        "  \"\"\"\n",
        "kg.query(cypher)"
      ],
      "metadata": {
        "colab": {
          "base_uri": "https://localhost:8080/"
        },
        "id": "yACyHbohu_WV",
        "outputId": "21cac2d1-1a55-468f-c5e2-74f5d3e2a8f0"
      },
      "execution_count": 31,
      "outputs": [
        {
          "output_type": "execute_result",
          "data": {
            "text/plain": [
              "[{'StandByMe.released': 1986,\n",
              "  'StandByMe.tagline': \"For some, it's the last real taste of innocence, and the first real taste of life. But for everyone, it's the time that memories are made of.\"}]"
            ]
          },
          "metadata": {},
          "execution_count": 31
        }
      ]
    },
    {
      "cell_type": "markdown",
      "source": [
        "### Cypher patterns with conditional matching"
      ],
      "metadata": {
        "id": "r4kveGMEvVKA"
      }
    },
    {
      "cell_type": "code",
      "source": [
        "cypher = \"\"\"\n",
        "  MATCH (nineties:Movie)\n",
        "  WHERE nineties.released >= 1900\n",
        "    AND nineties.released < 2000\n",
        "  RETURN nineties.title\n",
        "  \"\"\"\n",
        "kg.query(cypher)"
      ],
      "metadata": {
        "colab": {
          "base_uri": "https://localhost:8080/"
        },
        "id": "JGSekTPuvVpg",
        "outputId": "da46851c-226e-4c90-ee96-29a42226c99e"
      },
      "execution_count": 32,
      "outputs": [
        {
          "output_type": "execute_result",
          "data": {
            "text/plain": [
              "[{'nineties.title': 'Top Gun'},\n",
              " {'nineties.title': 'Stand By Me'},\n",
              " {'nineties.title': 'Joe Versus the Volcano'},\n",
              " {'nineties.title': 'A Few Good Men'},\n",
              " {'nineties.title': 'Unforgiven'},\n",
              " {'nineties.title': 'Sleepless in Seattle'},\n",
              " {'nineties.title': 'Johnny Mnemonic'},\n",
              " {'nineties.title': 'That Thing You Do'},\n",
              " {'nineties.title': 'The Birdcage'},\n",
              " {'nineties.title': \"The Devil's Advocate\"},\n",
              " {'nineties.title': 'As Good as It Gets'},\n",
              " {'nineties.title': 'What Dreams May Come'},\n",
              " {'nineties.title': \"You've Got Mail\"},\n",
              " {'nineties.title': 'When Harry Met Sally'},\n",
              " {'nineties.title': 'The Matrix'},\n",
              " {'nineties.title': 'Snow Falling on Cedars'}]"
            ]
          },
          "metadata": {},
          "execution_count": 32
        }
      ]
    },
    {
      "cell_type": "markdown",
      "source": [
        "### Pattern matching with multiple nodes"
      ],
      "metadata": {
        "id": "DI4juk0OvrE1"
      }
    },
    {
      "cell_type": "code",
      "source": [
        "cypher = \"\"\"\n",
        "  MATCH (actor:Person)-[:ACTED_IN]->(movie:Movie)\n",
        "  RETURN actor.name, movie.title LIMIT 10\n",
        "  \"\"\"\n",
        "kg.query(cypher)"
      ],
      "metadata": {
        "colab": {
          "base_uri": "https://localhost:8080/"
        },
        "id": "-S_iw_8Yvrru",
        "outputId": "747cbd71-4b30-4124-f663-cd793a00496f"
      },
      "execution_count": 34,
      "outputs": [
        {
          "output_type": "execute_result",
          "data": {
            "text/plain": [
              "[{'actor.name': 'Keanu Reeves', 'movie.title': 'The Matrix'},\n",
              " {'actor.name': 'Carrie-Anne Moss', 'movie.title': 'The Matrix'},\n",
              " {'actor.name': 'Laurence Fishburne', 'movie.title': 'The Matrix'},\n",
              " {'actor.name': 'Hugo Weaving', 'movie.title': 'The Matrix'},\n",
              " {'actor.name': 'Emil Eifrem', 'movie.title': 'The Matrix'},\n",
              " {'actor.name': 'Keanu Reeves', 'movie.title': 'The Matrix Reloaded'},\n",
              " {'actor.name': 'Carrie-Anne Moss', 'movie.title': 'The Matrix Reloaded'},\n",
              " {'actor.name': 'Laurence Fishburne', 'movie.title': 'The Matrix Reloaded'},\n",
              " {'actor.name': 'Hugo Weaving', 'movie.title': 'The Matrix Reloaded'},\n",
              " {'actor.name': 'Keanu Reeves', 'movie.title': 'The Matrix Revolutions'}]"
            ]
          },
          "metadata": {},
          "execution_count": 34
        }
      ]
    },
    {
      "cell_type": "code",
      "source": [
        "cypher = \"\"\"\n",
        "  MATCH (tom:Person {name:\"Tom Hanks\"})-[:ACTED_IN]->(tomHanksMovies:Movie)\n",
        "  RETURN tom.name, tomHanksMovies.title\n",
        "  \"\"\"\n",
        "kg.query(cypher)"
      ],
      "metadata": {
        "colab": {
          "base_uri": "https://localhost:8080/"
        },
        "id": "UaSpnZnuwPjT",
        "outputId": "7101b356-b588-434d-e092-6681f9dab3d3"
      },
      "execution_count": 35,
      "outputs": [
        {
          "output_type": "execute_result",
          "data": {
            "text/plain": [
              "[{'tom.name': 'Tom Hanks', 'tomHanksMovies.title': \"You've Got Mail\"},\n",
              " {'tom.name': 'Tom Hanks', 'tomHanksMovies.title': 'Sleepless in Seattle'},\n",
              " {'tom.name': 'Tom Hanks', 'tomHanksMovies.title': 'Joe Versus the Volcano'},\n",
              " {'tom.name': 'Tom Hanks', 'tomHanksMovies.title': 'That Thing You Do'}]"
            ]
          },
          "metadata": {},
          "execution_count": 35
        }
      ]
    },
    {
      "cell_type": "code",
      "source": [
        "cypher = \"\"\"\n",
        "  MATCH (tom:Person {name:\"Tom Hanks\"})-[:ACTED_IN]->(m)<-[:ACTED_IN]-(coActors)\n",
        "  RETURN coActors.name, m.title\n",
        "  \"\"\"\n",
        "kg.query(cypher)"
      ],
      "metadata": {
        "colab": {
          "base_uri": "https://localhost:8080/"
        },
        "id": "GRgmkSqzxS40",
        "outputId": "9ee57be0-3bbe-4ea4-e720-7c445f09697c"
      },
      "execution_count": 43,
      "outputs": [
        {
          "output_type": "execute_result",
          "data": {
            "text/plain": [
              "[{'coActors.name': 'Meg Ryan', 'm.title': \"You've Got Mail\"},\n",
              " {'coActors.name': 'Greg Kinnear', 'm.title': \"You've Got Mail\"},\n",
              " {'coActors.name': 'Parker Posey', 'm.title': \"You've Got Mail\"},\n",
              " {'coActors.name': 'Dave Chappelle', 'm.title': \"You've Got Mail\"},\n",
              " {'coActors.name': 'Steve Zahn', 'm.title': \"You've Got Mail\"},\n",
              " {'coActors.name': 'Meg Ryan', 'm.title': 'Sleepless in Seattle'},\n",
              " {'coActors.name': 'Rita Wilson', 'm.title': 'Sleepless in Seattle'},\n",
              " {'coActors.name': 'Bill Pullman', 'm.title': 'Sleepless in Seattle'},\n",
              " {'coActors.name': 'Victor Garber', 'm.title': 'Sleepless in Seattle'},\n",
              " {'coActors.name': \"Rosie O'Donnell\", 'm.title': 'Sleepless in Seattle'},\n",
              " {'coActors.name': 'Meg Ryan', 'm.title': 'Joe Versus the Volcano'},\n",
              " {'coActors.name': 'Nathan Lane', 'm.title': 'Joe Versus the Volcano'},\n",
              " {'coActors.name': 'Charlize Theron', 'm.title': 'That Thing You Do'},\n",
              " {'coActors.name': 'Liv Tyler', 'm.title': 'That Thing You Do'}]"
            ]
          },
          "metadata": {},
          "execution_count": 43
        }
      ]
    }
  ]
}