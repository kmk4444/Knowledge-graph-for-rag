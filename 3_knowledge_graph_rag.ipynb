{
  "nbformat": 4,
  "nbformat_minor": 0,
  "metadata": {
    "colab": {
      "provenance": [],
      "authorship_tag": "ABX9TyN0CHT7awvNWxPDuGP2bR3B",
      "include_colab_link": true
    },
    "kernelspec": {
      "name": "python3",
      "display_name": "Python 3"
    },
    "language_info": {
      "name": "python"
    }
  },
  "cells": [
    {
      "cell_type": "markdown",
      "metadata": {
        "id": "view-in-github",
        "colab_type": "text"
      },
      "source": [
        "<a href=\"https://colab.research.google.com/github/kmk4444/Knowledge-graph-for-rag/blob/main/3_knowledge_graph_rag.ipynb\" target=\"_parent\"><img src=\"https://colab.research.google.com/assets/colab-badge.svg\" alt=\"Open In Colab\"/></a>"
      ]
    },
    {
      "cell_type": "markdown",
      "source": [
        "# Lesson 3: Preparing Text Data for RAG"
      ],
      "metadata": {
        "id": "u97dc2yg2MJo"
      }
    },
    {
      "cell_type": "markdown",
      "source": [
        "### Import packages and set up Neo4j"
      ],
      "metadata": {
        "id": "U0SnxZC32TOl"
      }
    },
    {
      "cell_type": "code",
      "source": [
        "pip install langchain-community neo4j"
      ],
      "metadata": {
        "id": "-GO67D3D2hdj"
      },
      "execution_count": null,
      "outputs": []
    },
    {
      "cell_type": "code",
      "source": [
        "from langchain_community.graphs import Neo4jGraph\n",
        "\n",
        "# Warning control\n",
        "import warnings\n",
        "warnings.filterwarnings(\"ignore\")"
      ],
      "metadata": {
        "id": "qD-LxrdO2fbI"
      },
      "execution_count": 13,
      "outputs": []
    },
    {
      "cell_type": "code",
      "source": [],
      "metadata": {
        "id": "BWxmoZni27r7"
      },
      "execution_count": 14,
      "outputs": []
    },
    {
      "cell_type": "code",
      "source": [
        "# Connect to the knowledge graph instance using LangChain\n",
        "kg = Neo4jGraph(\n",
        "    url=NEO4J_URI, username=NEO4J_USERNAME, password=NEO4J_PASSWORD, database=NEO4J_DATABASE\n",
        ")"
      ],
      "metadata": {
        "id": "MLvcgKRt3Oet"
      },
      "execution_count": 15,
      "outputs": []
    },
    {
      "cell_type": "markdown",
      "source": [
        "### Create a vector index"
      ],
      "metadata": {
        "id": "6ozKirQd3bzh"
      }
    },
    {
      "cell_type": "code",
      "source": [
        "kg.query(\"\"\"\n",
        "  CREATE VECTOR INDEX movie_tagline_embeddings IF NOT EXISTS\n",
        "  FOR (m:Movie) ON (m.taglineEmbedding)\n",
        "  OPTIONS { indexConfig: {\n",
        "    `vector.dimensions`: 1536,\n",
        "    `vector.similarity_function`: 'cosine'\n",
        "  }}\"\"\"\n",
        ")\n"
      ],
      "metadata": {
        "colab": {
          "base_uri": "https://localhost:8080/"
        },
        "id": "j9s0HSoI3cpm",
        "outputId": "1e656b68-c25e-4827-b3f1-8cb2efc57425"
      },
      "execution_count": 16,
      "outputs": [
        {
          "output_type": "execute_result",
          "data": {
            "text/plain": [
              "[]"
            ]
          },
          "metadata": {},
          "execution_count": 16
        }
      ]
    },
    {
      "cell_type": "code",
      "source": [
        "kg.query(\"\"\"\n",
        "  SHOW VECTOR INDEXES\n",
        "  \"\"\"\n",
        ")"
      ],
      "metadata": {
        "id": "OG3365t04z8h"
      },
      "execution_count": null,
      "outputs": []
    },
    {
      "cell_type": "markdown",
      "source": [
        "### Populate the vector index\n",
        "- Calculate vector representation for each movie tagline using OpenAI\n",
        "- Add vector to the `Movie` node as `taglineEmbedding` property"
      ],
      "metadata": {
        "id": "-XND0fBHJJC6"
      }
    },
    {
      "cell_type": "code",
      "source": [
        "kg.query(\"\"\"\n",
        "    MATCH (movie:Movie) WHERE movie.tagline IS NOT NULL\n",
        "    WITH movie, genai.vector.encode(\n",
        "        movie.tagline,\n",
        "        \"OpenAI\",\n",
        "        {\n",
        "          token: $openAiApiKey\n",
        "        }) AS vector\n",
        "    CALL db.create.setNodeVectorProperty(movie, \"taglineEmbedding\", vector)\n",
        "    \"\"\",\n",
        "    params={\"openAiApiKey\": OPENAI_API_KEY}\n",
        ")\n"
      ],
      "metadata": {
        "colab": {
          "base_uri": "https://localhost:8080/"
        },
        "id": "Rseuyb32JKWr",
        "outputId": "562f9f13-010c-4b4a-d127-3545d700ac31"
      },
      "execution_count": 23,
      "outputs": [
        {
          "output_type": "execute_result",
          "data": {
            "text/plain": [
              "[]"
            ]
          },
          "metadata": {},
          "execution_count": 23
        }
      ]
    },
    {
      "cell_type": "code",
      "source": [
        "result = kg.query(\"\"\"\n",
        "    MATCH (m:Movie)\n",
        "    WHERE m.tagline IS NOT NULL\n",
        "    RETURN m.tagline, m.taglineEmbedding\n",
        "    LIMIT 1\n",
        "    \"\"\"\n",
        ")"
      ],
      "metadata": {
        "id": "7QR-liG9T13h"
      },
      "execution_count": 25,
      "outputs": []
    },
    {
      "cell_type": "code",
      "source": [
        "result[0]['m.tagline']"
      ],
      "metadata": {
        "colab": {
          "base_uri": "https://localhost:8080/",
          "height": 35
        },
        "id": "IAGdmi9HUSlZ",
        "outputId": "d308d670-67d8-4477-bc87-62e6e32c342b"
      },
      "execution_count": 30,
      "outputs": [
        {
          "output_type": "execute_result",
          "data": {
            "text/plain": [
              "'Welcome to the Real World'"
            ],
            "application/vnd.google.colaboratory.intrinsic+json": {
              "type": "string"
            }
          },
          "metadata": {},
          "execution_count": 30
        }
      ]
    },
    {
      "cell_type": "code",
      "source": [
        "result[0]['m.taglineEmbedding'][:10]"
      ],
      "metadata": {
        "id": "k8mmvw13UhNA"
      },
      "execution_count": null,
      "outputs": []
    },
    {
      "cell_type": "code",
      "source": [
        "len(result[0]['m.taglineEmbedding'])"
      ],
      "metadata": {
        "colab": {
          "base_uri": "https://localhost:8080/"
        },
        "id": "URTrzj5-UrQf",
        "outputId": "d6edee6e-f4da-4780-ec5f-24b8000e976a"
      },
      "execution_count": 32,
      "outputs": [
        {
          "output_type": "execute_result",
          "data": {
            "text/plain": [
              "1536"
            ]
          },
          "metadata": {},
          "execution_count": 32
        }
      ]
    },
    {
      "cell_type": "markdown",
      "source": [
        "### Similarity search\n",
        "- Calculate embedding for question\n",
        "- Identify matching movies based on similarity of question and `taglineEmbedding` vectors"
      ],
      "metadata": {
        "id": "k_GJSjS5WIRK"
      }
    },
    {
      "cell_type": "code",
      "source": [
        "question = \"What movies are about love?\""
      ],
      "metadata": {
        "id": "IQVggnsCWIpG"
      },
      "execution_count": 38,
      "outputs": []
    },
    {
      "cell_type": "code",
      "source": [
        "kg.query(\"\"\"\n",
        "    WITH genai.vector.encode(\n",
        "        $question,\n",
        "        \"OpenAI\",\n",
        "        {\n",
        "          token: $openAiApiKey\n",
        "        }) AS question_embedding\n",
        "    CALL db.index.vector.queryNodes(\n",
        "        'movie_tagline_embeddings',\n",
        "        $top_k,\n",
        "        question_embedding\n",
        "        ) YIELD node AS movie, score\n",
        "    RETURN movie.title, movie.tagline, score\n",
        "    \"\"\",\n",
        "    params={\"openAiApiKey\":OPENAI_API_KEY,\n",
        "            \"question\": question,\n",
        "            \"top_k\": 5\n",
        "            })"
      ],
      "metadata": {
        "colab": {
          "base_uri": "https://localhost:8080/"
        },
        "id": "N94cwaEylvS1",
        "outputId": "25ed2ad7-86f8-4600-d18c-0f3993e19945"
      },
      "execution_count": 39,
      "outputs": [
        {
          "output_type": "execute_result",
          "data": {
            "text/plain": [
              "[{'movie.title': 'Joe Versus the Volcano',\n",
              "  'movie.tagline': 'A story of love, lava and burning desire.',\n",
              "  'score': 0.9062921404838562},\n",
              " {'movie.title': 'As Good as It Gets',\n",
              "  'movie.tagline': 'A comedy from the heart that goes for the throat.',\n",
              "  'score': 0.9022475481033325},\n",
              " {'movie.title': 'Snow Falling on Cedars',\n",
              "  'movie.tagline': 'First loves last. Forever.',\n",
              "  'score': 0.901316225528717},\n",
              " {'movie.title': 'Sleepless in Seattle',\n",
              "  'movie.tagline': 'What if someone you never met, someone you never saw, someone you never knew was the only someone for you?',\n",
              "  'score': 0.894472599029541},\n",
              " {'movie.title': 'When Harry Met Sally',\n",
              "  'movie.tagline': 'Can two friends sleep together and still love each other in the morning?',\n",
              "  'score': 0.8942470550537109}]"
            ]
          },
          "metadata": {},
          "execution_count": 39
        }
      ]
    },
    {
      "cell_type": "code",
      "source": [
        "question = \"What movies are about adventure?\""
      ],
      "metadata": {
        "id": "fjRpPjxTmjV6"
      },
      "execution_count": 35,
      "outputs": []
    },
    {
      "cell_type": "code",
      "source": [
        "kg.query(\"\"\"\n",
        "    WITH genai.vector.encode(\n",
        "        $question,\n",
        "        \"OpenAI\",\n",
        "        {\n",
        "          token: $openAiApiKey\n",
        "        }) AS question_embedding\n",
        "    CALL db.index.vector.queryNodes(\n",
        "        'movie_tagline_embeddings',\n",
        "        $top_k,\n",
        "        question_embedding\n",
        "        ) YIELD node AS movie, score\n",
        "    RETURN movie.title, movie.tagline, score\n",
        "    \"\"\",\n",
        "    params={\"openAiApiKey\":OPENAI_API_KEY,\n",
        "            \"question\": question,\n",
        "            \"top_k\": 5\n",
        "            })"
      ],
      "metadata": {
        "colab": {
          "base_uri": "https://localhost:8080/"
        },
        "id": "cdmZld0NmkUq",
        "outputId": "48c10e6d-dbfd-42f1-c12e-4e2887021433"
      },
      "execution_count": 37,
      "outputs": [
        {
          "output_type": "execute_result",
          "data": {
            "text/plain": [
              "[{'movie.title': 'RescueDawn',\n",
              "  'movie.tagline': \"Based on the extraordinary true story of one man's fight for freedom\",\n",
              "  'score': 0.899803876876831},\n",
              " {'movie.title': 'Joe Versus the Volcano',\n",
              "  'movie.tagline': 'A story of love, lava and burning desire.',\n",
              "  'score': 0.8870336413383484},\n",
              " {'movie.title': 'As Good as It Gets',\n",
              "  'movie.tagline': 'A comedy from the heart that goes for the throat.',\n",
              "  'score': 0.8855669498443604},\n",
              " {'movie.title': 'A Few Good Men',\n",
              "  'movie.tagline': \"In the heart of the nation's capital, in a courthouse of the U.S. government, one man will stop at nothing to keep his honor, and one will stop at nothing to find the truth.\",\n",
              "  'score': 0.8765958547592163},\n",
              " {'movie.title': 'That Thing You Do',\n",
              "  'movie.tagline': 'In every life there comes a time when that thing you dream becomes that thing you do',\n",
              "  'score': 0.8764192461967468}]"
            ]
          },
          "metadata": {},
          "execution_count": 37
        }
      ]
    }
  ]
}