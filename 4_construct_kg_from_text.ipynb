{
  "nbformat": 4,
  "nbformat_minor": 0,
  "metadata": {
    "colab": {
      "provenance": [],
      "mount_file_id": "https://github.com/kmk4444/Knowledge-graph-for-rag/blob/main/4_construct_kg_from_text.ipynb",
      "authorship_tag": "ABX9TyNM75hq8CcJT0dj8Obf90qL",
      "include_colab_link": true
    },
    "kernelspec": {
      "name": "python3",
      "display_name": "Python 3"
    },
    "language_info": {
      "name": "python"
    }
  },
  "cells": [
    {
      "cell_type": "markdown",
      "metadata": {
        "id": "view-in-github",
        "colab_type": "text"
      },
      "source": [
        "<a href=\"https://colab.research.google.com/github/kmk4444/Knowledge-graph-for-rag/blob/main/4_construct_kg_from_text.ipynb\" target=\"_parent\"><img src=\"https://colab.research.google.com/assets/colab-badge.svg\" alt=\"Open In Colab\"/></a>"
      ]
    },
    {
      "cell_type": "markdown",
      "source": [
        "# Lesson 4: Constructing a Knowledge Graph from Text Documents"
      ],
      "metadata": {
        "id": "zK6qbuUwChuv"
      }
    },
    {
      "cell_type": "markdown",
      "source": [
        "### Import packages and set up Neo4j"
      ],
      "metadata": {
        "id": "n-qx8YQMCjNu"
      }
    },
    {
      "cell_type": "code",
      "source": [
        "!pip install langchain_community neo4j python-dotenv langchain-openai"
      ],
      "metadata": {
        "id": "GB9bHeIFCp3w"
      },
      "execution_count": null,
      "outputs": []
    },
    {
      "cell_type": "code",
      "execution_count": 3,
      "metadata": {
        "id": "ul4TAoW6CAAx"
      },
      "outputs": [],
      "source": [
        "from dotenv import load_dotenv\n",
        "import os\n",
        "\n",
        "# Common data processing\n",
        "import json\n",
        "import textwrap\n",
        "\n",
        "# Langchain\n",
        "from langchain_community.graphs import Neo4jGraph\n",
        "from langchain_community.vectorstores import Neo4jVector\n",
        "from langchain_openai import OpenAIEmbeddings\n",
        "from langchain.text_splitter import RecursiveCharacterTextSplitter\n",
        "from langchain.chains import RetrievalQAWithSourcesChain\n",
        "from langchain_openai import ChatOpenAI\n",
        "\n",
        "\n",
        "# Warning control\n",
        "import warnings\n",
        "warnings.filterwarnings(\"ignore\")"
      ]
    },
    {
      "cell_type": "code",
      "source": [],
      "metadata": {
        "id": "kJyjquP8ptNx"
      },
      "execution_count": 5,
      "outputs": []
    },
    {
      "cell_type": "markdown",
      "source": [
        "### Take a look at a Form 10-K json file\n",
        "\n"
      ],
      "metadata": {
        "id": "qeQwiFYfqAdH"
      }
    },
    {
      "cell_type": "code",
      "source": [
        "first_file_name = \"/content/drive/MyDrive/0000950170-23-027948.json\""
      ],
      "metadata": {
        "id": "3BHvabFNp3IH"
      },
      "execution_count": 8,
      "outputs": []
    },
    {
      "cell_type": "code",
      "source": [
        "first_file_as_object = json.load(open(first_file_name))"
      ],
      "metadata": {
        "id": "Iznj8CpitRsl"
      },
      "execution_count": 9,
      "outputs": []
    },
    {
      "cell_type": "code",
      "source": [
        "type(first_file_as_object)"
      ],
      "metadata": {
        "id": "cwkNGwnTuKTK"
      },
      "execution_count": null,
      "outputs": []
    },
    {
      "cell_type": "code",
      "source": [
        "for k,v in first_file_as_object.items():\n",
        "    print(k, type(v))"
      ],
      "metadata": {
        "id": "odSNGp47uMWT"
      },
      "execution_count": null,
      "outputs": []
    },
    {
      "cell_type": "code",
      "source": [
        "item1_text = first_file_as_object['item1']"
      ],
      "metadata": {
        "id": "Ref4Hjc-vOrj"
      },
      "execution_count": 12,
      "outputs": []
    },
    {
      "cell_type": "code",
      "source": [
        "item1_text[0:]"
      ],
      "metadata": {
        "collapsed": true,
        "id": "ipLzpPvhvQga"
      },
      "execution_count": null,
      "outputs": []
    }
  ]
}